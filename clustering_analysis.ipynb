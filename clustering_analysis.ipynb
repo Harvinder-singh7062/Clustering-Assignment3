{
 "cells": [
  {
   "cell_type": "code",
   "execution_count": 15,
   "id": "acf40df6",
   "metadata": {},
   "outputs": [],
   "source": [
    "# Step 1: Import libraries\n",
    "import numpy as np\n",
    "import matplotlib.pyplot as plt\n",
    "from sklearn.datasets import make_moons, make_blobs\n",
    "from sklearn.cluster import DBSCAN, KMeans, AgglomerativeClustering\n",
    "from sklearn.preprocessing import StandardScaler\n",
    "import os"
   ]
  },
  {
   "cell_type": "code",
   "execution_count": 16,
   "id": "cc5ccbb0",
   "metadata": {},
   "outputs": [],
   "source": [
    "\n",
    "# Step 2: Ensure visuals folder exists\n",
    "os.makedirs(\"visuals\", exist_ok=True)\n",
    "\n",
    "# Step 3: Define reusable plot function\n",
    "def plot_clusters(X, labels, title, filename):\n",
    "    plt.figure(figsize=(5, 4))\n",
    "    plt.scatter(X[:, 0], X[:, 1], c=labels, cmap='Set1', s=30)\n",
    "    plt.title(title)\n",
    "    plt.tight_layout()\n",
    "    plt.savefig(f\"visuals/{filename}\")\n",
    "    plt.close()\n",
    "    print(f\"Saved plot to visuals/{filename}\")"
   ]
  },
  {
   "cell_type": "code",
   "execution_count": 17,
   "id": "299c247d",
   "metadata": {},
   "outputs": [
    {
     "name": "stdout",
     "output_type": "stream",
     "text": [
      "Saved plot to visuals/moons_dbscan.png\n",
      "Saved plot to visuals/moons_kmeans.png\n",
      "Saved plot to visuals/moons_hierarchical.png\n"
     ]
    }
   ],
   "source": [
    "# Dataset 1: Moons (DBSCAN works well)\n",
    "\n",
    "X_moons, _ = make_moons(n_samples=300, noise=0.05, random_state=42)\n",
    "X_moons = StandardScaler().fit_transform(X_moons)\n",
    "\n",
    "# DBSCAN on Moons\n",
    "dbscan = DBSCAN(eps=0.3, min_samples=5)\n",
    "labels_db = dbscan.fit_predict(X_moons)\n",
    "plot_clusters(X_moons, labels_db, \"DBSCAN on Moons\", \"moons_dbscan.png\")\n",
    "\n",
    "# k-Means on Moons\n",
    "kmeans = KMeans(n_clusters=2, random_state=42)\n",
    "labels_km = kmeans.fit_predict(X_moons)\n",
    "plot_clusters(X_moons, labels_km, \"k-Means on Moons\", \"moons_kmeans.png\")\n",
    "\n",
    "# Hierarchical Clustering on Moons\n",
    "agg = AgglomerativeClustering(n_clusters=2)\n",
    "labels_hc = agg.fit_predict(X_moons)\n",
    "plot_clusters(X_moons, labels_hc, \"Hierarchical on Moons\", \"moons_hierarchical.png\")\n"
   ]
  },
  {
   "cell_type": "code",
   "execution_count": 18,
   "id": "84251c11",
   "metadata": {},
   "outputs": [
    {
     "name": "stdout",
     "output_type": "stream",
     "text": [
      "Saved plot to visuals/blobs_dbscan.png\n",
      "Saved plot to visuals/blobs_kmeans.png\n",
      "Saved plot to visuals/blobs_hierarchical.png\n"
     ]
    }
   ],
   "source": [
    "# Dataset 2: Blobs with Varying Density (DBSCAN struggles)\n",
    "\n",
    "X_blobs, _ = make_blobs(n_samples=300, centers=3, cluster_std=[1.0, 2.5, 0.5], random_state=42)\n",
    "X_blobs = StandardScaler().fit_transform(X_blobs)\n",
    "\n",
    "# DBSCAN on Blobs\n",
    "dbscan_b = DBSCAN(eps=0.3, min_samples=5)\n",
    "labels_db_b = dbscan_b.fit_predict(X_blobs)\n",
    "plot_clusters(X_blobs, labels_db_b, \"DBSCAN on Blobs (Varying Density)\", \"blobs_dbscan.png\")\n",
    "\n",
    "# k-Means on Blobs\n",
    "kmeans_b = KMeans(n_clusters=3, random_state=42)\n",
    "labels_km_b = kmeans_b.fit_predict(X_blobs)\n",
    "plot_clusters(X_blobs, labels_km_b, \"k-Means on Blobs\", \"blobs_kmeans.png\")\n",
    "\n",
    "# Hierarchical Clustering on Blobs\n",
    "agg_b = AgglomerativeClustering(n_clusters=3)\n",
    "labels_hc_b = agg_b.fit_predict(X_blobs)\n",
    "plot_clusters(X_blobs, labels_hc_b, \"Hierarchical on Blobs\", \"blobs_hierarchical.png\")"
   ]
  }
 ],
 "metadata": {
  "kernelspec": {
   "display_name": "Python 3",
   "language": "python",
   "name": "python3"
  },
  "language_info": {
   "codemirror_mode": {
    "name": "ipython",
    "version": 3
   },
   "file_extension": ".py",
   "mimetype": "text/x-python",
   "name": "python",
   "nbconvert_exporter": "python",
   "pygments_lexer": "ipython3",
   "version": "3.13.5"
  }
 },
 "nbformat": 4,
 "nbformat_minor": 5
}
